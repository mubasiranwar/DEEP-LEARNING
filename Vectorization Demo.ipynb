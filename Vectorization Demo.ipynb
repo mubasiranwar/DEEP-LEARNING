{
 "cells": [
  {
   "cell_type": "code",
   "execution_count": 1,
   "id": "3bb6a465-860b-4876-94ba-3b11d3c91062",
   "metadata": {},
   "outputs": [
    {
     "name": "stdout",
     "output_type": "stream",
     "text": [
      "Array: [1 2 3 4 5] \n"
     ]
    }
   ],
   "source": [
    "import numpy as np\n",
    "print(f'Array: {np.array([1,2,3,4,5])} ')"
   ]
  },
  {
   "cell_type": "code",
   "execution_count": 9,
   "id": "febaf79f-3833-4c05-ac78-0aa4f210f61e",
   "metadata": {},
   "outputs": [
    {
     "name": "stdout",
     "output_type": "stream",
     "text": [
      "Vectorized version: 0.9977817535400391 ms\n",
      "For loop: 772.2904682159424 ms\n"
     ]
    }
   ],
   "source": [
    "# Create random vectors\n",
    "a = np.random.rand(1000000)\n",
    "b = np.random.rand(1000000)\n",
    "\n",
    "# ------------------- Vectorized version -------------------\n",
    "tic = time.time()\n",
    "c = np.dot(a, b)   # vectorized dot product\n",
    "toc = time.time()\n",
    "\n",
    "print(\"Vectorized version: \" + str(1000*(toc - tic)) + \" ms\")\n",
    "\n",
    "# ------------------- For loop version -------------------\n",
    "c = 0\n",
    "tic = time.time()\n",
    "for i in range(1000000):\n",
    "    c += a[i] * b[i]\n",
    "toc = time.time()\n",
    "\n",
    "print(\"For loop: \" + str(1000*(toc - tic)) + \" ms\")"
   ]
  },
  {
   "cell_type": "code",
   "execution_count": null,
   "id": "b7534e82-a3fa-4305-bfed-26fca55621e7",
   "metadata": {},
   "outputs": [],
   "source": []
  }
 ],
 "metadata": {
  "kernelspec": {
   "display_name": "Python [conda env:base] *",
   "language": "python",
   "name": "conda-base-py"
  },
  "language_info": {
   "codemirror_mode": {
    "name": "ipython",
    "version": 3
   },
   "file_extension": ".py",
   "mimetype": "text/x-python",
   "name": "python",
   "nbconvert_exporter": "python",
   "pygments_lexer": "ipython3",
   "version": "3.12.4"
  }
 },
 "nbformat": 4,
 "nbformat_minor": 5
}
